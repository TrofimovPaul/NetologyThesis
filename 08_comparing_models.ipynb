{
 "cells": [
  {
   "cell_type": "markdown",
   "id": "5554f559",
   "metadata": {},
   "source": [
    "# Импорты"
   ]
  },
  {
   "cell_type": "code",
   "execution_count": 1,
   "id": "c8cf9b1d",
   "metadata": {},
   "outputs": [],
   "source": [
    "import pandas as pd\n",
    "import numpy as np\n",
    "import matplotlib.pyplot as plt\n",
    "import re\n",
    "from glob import glob\n",
    "#from progiter import ProgIter\n",
    "import joblib\n",
    "\n",
    "from sklearn import metrics\n",
    "\n",
    "import torch\n",
    "from torch.utils.data import TensorDataset, DataLoader\n",
    "\n",
    "from transformers import AutoTokenizer\n",
    "\n",
    "import warnings\n",
    "\n",
    "warnings.filterwarnings('ignore')"
   ]
  },
  {
   "cell_type": "markdown",
   "id": "901ac7b3",
   "metadata": {},
   "source": [
    "# Создание датасета"
   ]
  },
  {
   "cell_type": "code",
   "execution_count": 36,
   "id": "973a3304",
   "metadata": {},
   "outputs": [],
   "source": [
    "def make_dataset(texts, labels):\n",
    "    '''\n",
    "    Токенизация текстов и сопоставление токенов с идентификаторами\n",
    "    соответствующих им слов. Формирование PyTorch датасета\n",
    "    '''\n",
    "    input_ids = []        # Список для токенизированных текстов\n",
    "    attention_masks = []  # Список для масок механизма внимания\n",
    "    \n",
    "    # Цикл проходится и токенизирует каждый текст\n",
    "    for seq_to_token in texts:\n",
    "        encoded_dict = tokenizer.encode_plus(\n",
    "            seq_to_token,                # Последовательность для токенизации\n",
    "            add_special_tokens=True,     # Добавить специальные токены в начало и в конец посл-ти\n",
    "            max_length=338,              # Максимальная длина последовательности\n",
    "            padding='max_length',        # Токен для заполнения до максимальной длины\n",
    "            return_attention_mask=True,  # Маска механизма внимания для указания на паддинги\n",
    "            return_tensors = 'pt',       # Возвращать pytorch-тензоры\n",
    "            truncation=True              # Обрезать последовательность до максимальной длины\n",
    "        )\n",
    "\n",
    "        input_ids.append(encoded_dict['input_ids'])\n",
    "        attention_masks.append(encoded_dict['attention_mask'])\n",
    "    \n",
    "    # Конкатенация входных данных в тензоры\n",
    "    input_ids = torch.cat(input_ids, dim=0)\n",
    "    attention_masks = torch.cat(attention_masks, dim=0)\n",
    "    # Преобразование таргетов в тензоры\n",
    "    labels = torch.tensor(labels.values)\n",
    "    # Формирование датасета\n",
    "    dataset = TensorDataset(input_ids, attention_masks, labels)\n",
    "\n",
    "    return dataset"
   ]
  },
  {
   "cell_type": "markdown",
   "id": "7c7b3994",
   "metadata": {},
   "source": [
    "# Алгоритмы обучения и проверки"
   ]
  },
  {
   "cell_type": "code",
   "execution_count": 3,
   "id": "c51fead5",
   "metadata": {},
   "outputs": [],
   "source": [
    "def validate():\n",
    "    '''\n",
    "    Валидация обученной модели на тестовой выборке\n",
    "    '''\n",
    "    print(f'Validation')\n",
    "    model.eval()             \n",
    "    fin_targets = []         # Список для всех таргетов валидационной выборки\n",
    "    fin_outputs = []         # Список для всех предиктов модели на валидационной выборки\n",
    "    total_test_loss = 0.0    # Функция потерь на валидации\n",
    "    \n",
    "    with torch.no_grad():\n",
    "        # Без подсчета градиентов цикл проходится по батчам\n",
    "        for data in test_dataloader:\n",
    "            ids = data[0].to(device, dtype=torch.long)            # Токены последовательностей из батча\n",
    "            mask = data[1].to(device, dtype=torch.long)           # Маски механизма внимания последовательностей\n",
    "            targets = data[2].to(device, dtype=torch.float)       # Таргеты из батча\n",
    "                \n",
    "            res = model(ids, attention_mask=mask, labels=targets) # В модель подаются входные тензоры и таргеты\n",
    "            loss = res['loss']                                    # Вычисляется значение функции потерь\n",
    "            logits = res['logits']                                # Логиты предсказаний модели\n",
    "            total_test_loss += loss.item()                        # Считается функция потерь\n",
    "            \n",
    "            # Таргеты и выходы модели по батчу добавляются в списки. Логиты проходят через сигмоиду\n",
    "            fin_targets.extend(targets.cpu().detach().numpy().tolist())\n",
    "            fin_outputs.extend(torch.sigmoid(logits).cpu().detach().numpy().tolist())\n",
    "    \n",
    "    fin_targets = np.array(fin_targets)\n",
    "    fin_outputs = np.array(fin_outputs)\n",
    "    predictions = np.zeros(fin_outputs.shape)\n",
    "    predictions[np.where(fin_outputs >= 0.5)] = 1\n",
    "    \n",
    "    return total_test_loss / len(test_dataloader), fin_targets, predictions"
   ]
  },
  {
   "cell_type": "markdown",
   "id": "b486dc9f",
   "metadata": {},
   "source": [
    "# Метрики"
   ]
  },
  {
   "cell_type": "code",
   "execution_count": 5,
   "id": "50fcb288",
   "metadata": {},
   "outputs": [],
   "source": [
    "def hamming_distance(y_test, y_pred):\n",
    "    '''\n",
    "    Расчёт доработанного расстояния Хэмминга с ориентацией на целевое значение = 1\n",
    "\n",
    "    y_test - тестовые целевые данные\n",
    "\n",
    "    y_pred - предсказанные целевые данные\n",
    "\n",
    "    Вывод среднего значения расстояния Хэмминга по всем элементам \n",
    "\n",
    "    '''\n",
    "    try:\n",
    "        y_true = y_test.to_numpy()\n",
    "    except:\n",
    "        y_true = y_test\n",
    "\n",
    "    if (len(y_true) != len(y_pred)):\n",
    "        raise Exception('Объекты должны быть одинаковой длины')\n",
    "    distance_list = []\n",
    "    \n",
    "    for elem in range(len(y_true)):\n",
    "        if (len(y_true[elem]) != len(y_pred[elem])):\n",
    "            raise Exception('Элементы должны быть одинаковой длины')\n",
    "\n",
    "        indices_1_y_true = set(np.where(y_true[elem])[0])\n",
    "        indices_1_y_pred = set(np.where(y_pred[elem])[0])\n",
    "        \n",
    "        if len(indices_1_y_true) == 0 and len(indices_1_y_pred) == 0:\n",
    "            dist_counter = 1\n",
    "\n",
    "        else:\n",
    "            dist_counter = len(indices_1_y_true.intersection(indices_1_y_pred)) / float(len(indices_1_y_true.union(indices_1_y_pred)))\n",
    "\n",
    "        distance_list.append(dist_counter)\n",
    "    return round(np.mean(distance_list),5)"
   ]
  },
  {
   "cell_type": "code",
   "execution_count": 28,
   "id": "6aae8b2d",
   "metadata": {},
   "outputs": [],
   "source": [
    "def estimation(targets, outputs):\n",
    "    metrics_dict = {\n",
    "        'Accuracy': metrics.accuracy_score(targets, outputs),\n",
    "        'Hamming_distance': hamming_distance(targets, outputs),\n",
    "        'F1_micro': metrics.f1_score(targets, outputs, average='micro'),\n",
    "        'F1_macro': metrics.f1_score(targets, outputs, average='macro'),\n",
    "        'Recall_micro': metrics.recall_score(targets, outputs, average='micro'),\n",
    "        'Recall_macro': metrics.recall_score(targets, outputs, average='macro'),\n",
    "        'Precision_micro': metrics.precision_score(targets, outputs, average='micro', zero_division=0.0),\n",
    "        'Precision_macro': metrics.precision_score(targets, outputs, average='macro', zero_division=0.0)\n",
    "    }\n",
    "    return metrics_dict"
   ]
  },
  {
   "cell_type": "markdown",
   "id": "8a6302b9",
   "metadata": {},
   "source": [
    "# Загрузка датасета с примерами"
   ]
  },
  {
   "cell_type": "code",
   "execution_count": 23,
   "id": "3e96c867",
   "metadata": {},
   "outputs": [
    {
     "name": "stdout",
     "output_type": "stream",
     "text": [
      "cuda\n"
     ]
    }
   ],
   "source": [
    "device = torch.device('cuda' if torch.cuda.is_available() else 'cpu')\n",
    "print(device)\n",
    "\n",
    "df_test = pd.read_csv('D:\\\\netology_diplom\\\\final\\\\csv_files\\\\example.csv')\n",
    "X_test, y_test = df_test['text_lemma'], df_test.drop('text_lemma', axis=1)\n",
    "y_test.fillna(int(0), inplace=True)\n"
   ]
  },
  {
   "cell_type": "markdown",
   "id": "2ed9c256",
   "metadata": {},
   "source": [
    "# Результаты"
   ]
  },
  {
   "cell_type": "markdown",
   "id": "472645d8",
   "metadata": {},
   "source": [
    "## Расчёт метрик на тестовом датасете для каждой модели"
   ]
  },
  {
   "cell_type": "code",
   "execution_count": 8,
   "id": "14cef5f2",
   "metadata": {},
   "outputs": [],
   "source": [
    "import os\n",
    "models = []\n",
    "for file in os.listdir('D:\\\\netology_diplom\\\\final\\\\code_files\\\\models\\\\'):\n",
    "    models.append(file)"
   ]
  },
  {
   "cell_type": "code",
   "execution_count": 9,
   "id": "bdf415be",
   "metadata": {},
   "outputs": [
    {
     "data": {
      "text/plain": [
       "['ai-forever-rubert-base.pt',\n",
       " 'cointegrated-rubert-tiny2_14.pt',\n",
       " 'FacebookAI-xlm-roberta-base_10.pt',\n",
       " 'Geotrend-distilbert-base-ru-cased_12.pt',\n",
       " 'model_tfidf_catboost_ngram_1_1.pkl',\n",
       " 'model_tfidf_logreg_ngram_1_1.pkl',\n",
       " 'model_tfidf_logreg_ngram_1_2.pkl']"
      ]
     },
     "execution_count": 9,
     "metadata": {},
     "output_type": "execute_result"
    }
   ],
   "source": [
    "models"
   ]
  },
  {
   "cell_type": "markdown",
   "id": "6951cb5b",
   "metadata": {},
   "source": [
    "### Расчёт метрик на тестовом датасете для классических моделей"
   ]
  },
  {
   "cell_type": "code",
   "execution_count": 55,
   "id": "575cc95f",
   "metadata": {},
   "outputs": [
    {
     "name": "stdout",
     "output_type": "stream",
     "text": [
      "model_tfidf_catboost_ngram_1_1.pkl\n",
      "model_tfidf_logreg_ngram_1_1.pkl\n",
      "model_tfidf_logreg_ngram_1_2.pkl\n"
     ]
    }
   ],
   "source": [
    "y_pred_dict = {}\n",
    "metrics_df = pd.DataFrame()\n",
    "for model_name in models:\n",
    "    if '.pkl' in model_name:\n",
    "        print(model_name)\n",
    "        row_no = len(metrics_df)\n",
    "        metrics_df.loc[row_no, 'model_name'] = model_name[6:-4]\n",
    "        model = joblib.load('D:\\\\netology_diplom\\\\final\\\\code_files\\\\models\\\\'+model_name)\n",
    "        y_pred = model.predict(X_test)\n",
    "        y_pred_dict[model_name[6:-4]] = y_pred\n",
    "        metrics_dict = estimation(y_test.to_numpy(), y_pred)\n",
    "        for metric, value in metrics_dict.items():\n",
    "            metrics_df.loc[row_no, metric] = value\n",
    "    else:\n",
    "        pass"
   ]
  },
  {
   "cell_type": "markdown",
   "id": "9d772cf4",
   "metadata": {},
   "source": [
    "### Расчёт метрик на тестовом датасете для нейросетевых моделей"
   ]
  },
  {
   "cell_type": "code",
   "execution_count": 61,
   "id": "797a2466",
   "metadata": {},
   "outputs": [
    {
     "name": "stdout",
     "output_type": "stream",
     "text": [
      "ai-forever-rubert-base.pt\n",
      "Validation\n",
      "cointegrated-rubert-tiny2_14.pt\n",
      "Validation\n",
      "FacebookAI-xlm-roberta-base_10.pt\n",
      "Validation\n",
      "Geotrend-distilbert-base-ru-cased_12.pt\n",
      "Validation\n"
     ]
    }
   ],
   "source": [
    "for model_name in models:\n",
    "    if '.pt' in model_name:\n",
    "        print(model_name)\n",
    "        row_no = len(metrics_df)\n",
    "        model_name = model_name[:-3]\n",
    "        metrics_df.loc[row_no, 'model_name'] = model_name\n",
    "        selected_model = input()\n",
    "        tokenizer = AutoTokenizer.from_pretrained(selected_model) # ai-forever/rubert-base cointegrated/rubert-tiny2 FacebookAI/xlm-roberta-base Geotrend/distilbert-base-ru-cased\n",
    "        test_dataset = make_dataset(X_test, y_test)\n",
    "        test_dataloader = DataLoader(test_dataset)\n",
    "        model = torch.load('D:\\\\netology_diplom\\\\final\\\\code_files\\\\models\\\\' + model_name + '.pt')\n",
    "        avg_val_loss, targets, y_pred = validate()\n",
    "        y_pred_dict[model_name] = y_pred\n",
    "        metrics_dict = estimation(targets, y_pred)\n",
    "        for metric, value in metrics_dict.items():\n",
    "            metrics_df.loc[row_no, metric] = value\n",
    "    else:\n",
    "        pass"
   ]
  },
  {
   "cell_type": "markdown",
   "id": "9b62b358",
   "metadata": {},
   "source": [
    "### Постобработка данных"
   ]
  },
  {
   "cell_type": "code",
   "execution_count": null,
   "id": "9f6e2761",
   "metadata": {},
   "outputs": [],
   "source": [
    "metrics_df = metrics_df.drop(labels = [3,4])\n",
    "metrics_df.reset_index(drop=True,inplace = True)\n",
    "df_metrics = metrics_df.copy()\n",
    "metrics_df.loc[row_no, 'avg_val_loss'] = avg_val_loss\n",
    "metrics_df = df_metrics"
   ]
  },
  {
   "cell_type": "markdown",
   "id": "ad81fdc4",
   "metadata": {},
   "source": [
    "### Результаты в виде сводной таблицы"
   ]
  },
  {
   "cell_type": "code",
   "execution_count": null,
   "id": "3d7ebf61",
   "metadata": {},
   "outputs": [
    {
     "data": {
      "text/html": [
       "<div>\n",
       "<style scoped>\n",
       "    .dataframe tbody tr th:only-of-type {\n",
       "        vertical-align: middle;\n",
       "    }\n",
       "\n",
       "    .dataframe tbody tr th {\n",
       "        vertical-align: top;\n",
       "    }\n",
       "\n",
       "    .dataframe thead th {\n",
       "        text-align: right;\n",
       "    }\n",
       "</style>\n",
       "<table border=\"1\" class=\"dataframe\">\n",
       "  <thead>\n",
       "    <tr style=\"text-align: right;\">\n",
       "      <th></th>\n",
       "      <th>model_name</th>\n",
       "      <th>Accuracy</th>\n",
       "      <th>Hamming_distance</th>\n",
       "      <th>F1_micro</th>\n",
       "      <th>F1_macro</th>\n",
       "      <th>Recall_micro</th>\n",
       "      <th>Recall_macro</th>\n",
       "      <th>Precision_micro</th>\n",
       "      <th>Precision_macro</th>\n",
       "    </tr>\n",
       "  </thead>\n",
       "  <tbody>\n",
       "    <tr>\n",
       "      <th>0</th>\n",
       "      <td>tfidf_catboost_ngram_1_1</td>\n",
       "      <td>0.424242</td>\n",
       "      <td>0.42803</td>\n",
       "      <td>0.567164</td>\n",
       "      <td>0.463884</td>\n",
       "      <td>0.431818</td>\n",
       "      <td>0.426966</td>\n",
       "      <td>0.826087</td>\n",
       "      <td>0.558989</td>\n",
       "    </tr>\n",
       "    <tr>\n",
       "      <th>1</th>\n",
       "      <td>tfidf_logreg_ngram_1_1</td>\n",
       "      <td>0.367424</td>\n",
       "      <td>0.47898</td>\n",
       "      <td>0.523810</td>\n",
       "      <td>0.516887</td>\n",
       "      <td>0.625000</td>\n",
       "      <td>0.617978</td>\n",
       "      <td>0.450820</td>\n",
       "      <td>0.496889</td>\n",
       "    </tr>\n",
       "    <tr>\n",
       "      <th>2</th>\n",
       "      <td>tfidf_logreg_ngram_1_2</td>\n",
       "      <td>0.382576</td>\n",
       "      <td>0.49463</td>\n",
       "      <td>0.552632</td>\n",
       "      <td>0.532694</td>\n",
       "      <td>0.636364</td>\n",
       "      <td>0.629213</td>\n",
       "      <td>0.488372</td>\n",
       "      <td>0.514968</td>\n",
       "    </tr>\n",
       "    <tr>\n",
       "      <th>3</th>\n",
       "      <td>ai-forever-rubert-base</td>\n",
       "      <td>0.560606</td>\n",
       "      <td>0.56061</td>\n",
       "      <td>0.593186</td>\n",
       "      <td>0.517918</td>\n",
       "      <td>0.560606</td>\n",
       "      <td>0.554307</td>\n",
       "      <td>0.629787</td>\n",
       "      <td>0.544868</td>\n",
       "    </tr>\n",
       "    <tr>\n",
       "      <th>4</th>\n",
       "      <td>cointegrated-rubert-tiny2_14</td>\n",
       "      <td>0.503788</td>\n",
       "      <td>0.50568</td>\n",
       "      <td>0.565401</td>\n",
       "      <td>0.482292</td>\n",
       "      <td>0.507576</td>\n",
       "      <td>0.501873</td>\n",
       "      <td>0.638095</td>\n",
       "      <td>0.521629</td>\n",
       "    </tr>\n",
       "    <tr>\n",
       "      <th>5</th>\n",
       "      <td>FacebookAI-xlm-roberta-base_10</td>\n",
       "      <td>0.545455</td>\n",
       "      <td>0.54735</td>\n",
       "      <td>0.581162</td>\n",
       "      <td>0.493810</td>\n",
       "      <td>0.549242</td>\n",
       "      <td>0.543071</td>\n",
       "      <td>0.617021</td>\n",
       "      <td>0.485326</td>\n",
       "    </tr>\n",
       "    <tr>\n",
       "      <th>6</th>\n",
       "      <td>Geotrend-distilbert-base-ru-cased_12</td>\n",
       "      <td>0.522727</td>\n",
       "      <td>0.52841</td>\n",
       "      <td>0.564000</td>\n",
       "      <td>0.493053</td>\n",
       "      <td>0.534091</td>\n",
       "      <td>0.528090</td>\n",
       "      <td>0.597458</td>\n",
       "      <td>0.505939</td>\n",
       "    </tr>\n",
       "  </tbody>\n",
       "</table>\n",
       "</div>"
      ],
      "text/plain": [
       "                             model_name  Accuracy  Hamming_distance  F1_micro  \\\n",
       "0              tfidf_catboost_ngram_1_1  0.424242           0.42803  0.567164   \n",
       "1                tfidf_logreg_ngram_1_1  0.367424           0.47898  0.523810   \n",
       "2                tfidf_logreg_ngram_1_2  0.382576           0.49463  0.552632   \n",
       "3                ai-forever-rubert-base  0.560606           0.56061  0.593186   \n",
       "4          cointegrated-rubert-tiny2_14  0.503788           0.50568  0.565401   \n",
       "5        FacebookAI-xlm-roberta-base_10  0.545455           0.54735  0.581162   \n",
       "6  Geotrend-distilbert-base-ru-cased_12  0.522727           0.52841  0.564000   \n",
       "\n",
       "   F1_macro  Recall_micro  Recall_macro  Precision_micro  Precision_macro  \n",
       "0  0.463884      0.431818      0.426966         0.826087         0.558989  \n",
       "1  0.516887      0.625000      0.617978         0.450820         0.496889  \n",
       "2  0.532694      0.636364      0.629213         0.488372         0.514968  \n",
       "3  0.517918      0.560606      0.554307         0.629787         0.544868  \n",
       "4  0.482292      0.507576      0.501873         0.638095         0.521629  \n",
       "5  0.493810      0.549242      0.543071         0.617021         0.485326  \n",
       "6  0.493053      0.534091      0.528090         0.597458         0.505939  "
      ]
     },
     "execution_count": 74,
     "metadata": {},
     "output_type": "execute_result"
    }
   ],
   "source": [
    "metrics_df\n",
    "metrics_df.to_csv('metrics_pred.csv', index=False)"
   ]
  },
  {
   "cell_type": "markdown",
   "id": "7250bd36",
   "metadata": {},
   "source": [
    "# Сохранение предсказаний по каждой модели"
   ]
  },
  {
   "cell_type": "code",
   "execution_count": 75,
   "id": "108eff5a",
   "metadata": {},
   "outputs": [
    {
     "name": "stdout",
     "output_type": "stream",
     "text": [
      "tfidf_catboost_ngram_1_1\n",
      "tfidf_logreg_ngram_1_1\n",
      "tfidf_logreg_ngram_1_2\n",
      "ai-forever-rubert-base\n",
      "cointegrated-rubert-tiny2_14\n",
      "FacebookAI-xlm-roberta-base_10\n",
      "Geotrend-distilbert-base-ru-cased_12\n"
     ]
    }
   ],
   "source": [
    "columns = df_test.columns[1:]\n",
    "for k,v in y_pred_dict.items():\n",
    "    print(k)\n",
    "    df_pred = pd.DataFrame(data=v, columns=columns)\n",
    "    df_pred.to_csv('df_pred_' + k + '.csv', index = False)"
   ]
  },
  {
   "cell_type": "markdown",
   "id": "08876ec8",
   "metadata": {},
   "source": [
    "# Примеры и сравнение"
   ]
  },
  {
   "cell_type": "code",
   "execution_count": 79,
   "id": "d12dcbde",
   "metadata": {},
   "outputs": [
    {
     "name": "stdout",
     "output_type": "stream",
     "text": [
      "ai-forever-rubert-base\n",
      "cointegrated-rubert-tiny2_14\n",
      "FacebookAI-xlm-roberta-base_10\n",
      "Geotrend-distilbert-base-ru-cased_12\n",
      "model_tfidf_catboost_ngram_1_1.\n",
      "model_tfidf_logreg_ngram_1_1.\n",
      "model_tfidf_logreg_ngram_1_2.\n"
     ]
    }
   ],
   "source": [
    "df_ex = pd.read_csv('example.csv')\n",
    "df_ex.fillna(0, inplace = True)\n",
    "columns_lst = df_ex.columns[1:]\n",
    "df_final_example = df_ex.drop(columns=columns_lst)\n",
    "\n",
    "models_list_comparison = ['ai-forever-rubert-base.pt',\n",
    " 'cointegrated-rubert-tiny2_14.pt',\n",
    " 'FacebookAI-xlm-roberta-base_10.pt',\n",
    " 'Geotrend-distilbert-base-ru-cased_12.pt',\n",
    " 'model_tfidf_catboost_ngram_1_1.pkl',\n",
    " 'model_tfidf_logreg_ngram_1_1.pkl',\n",
    " 'model_tfidf_logreg_ngram_1_2.pkl']\n",
    "\n",
    "for k in models_list_comparison:\n",
    "    print(k[:-3])\n",
    "    try:\n",
    "        df_pred = pd.read_csv('df_pred_' + k[:-3] + '.csv')\n",
    "    except:\n",
    "        df_pred = pd.read_csv('df_pred_' + k[6:-4] + '.csv')\n",
    "    indices_pred_list = []\n",
    "    indices_true_list = []\n",
    "    for elem in range(len(df_pred)):\n",
    "        indices_pred = set(np.where(df_pred.to_numpy()[elem])[0])\n",
    "        indices_true = set(np.where(df_ex[columns_lst].to_numpy()[elem])[0])\n",
    "        indices_pred_list.append(indices_pred)\n",
    "        indices_true_list.append(indices_true)\n",
    "    df_final_example[f'id_true_{k[:-3]}'] = indices_true_list\n",
    "    df_final_example[f'id_pred_{k[:-3]}'] = indices_pred_list\n",
    "columns_final_ex = df_final_example.columns"
   ]
  },
  {
   "cell_type": "code",
   "execution_count": null,
   "id": "1c84e3ff",
   "metadata": {},
   "outputs": [],
   "source": [
    "def comparison_result(st_ind,end_ind,columns_lst, columns_final_ex):\n",
    "    for col in range(1,15,2):\n",
    "        #    print(col)\n",
    "        st_col, end_col = columns_final_ex[col], columns_final_ex[col+1]\n",
    "        print(st_col, end_col)\n",
    "        for i in range(len(df_final_example[st_ind:end_ind].loc[:,['text_lemma',st_col,end_col]])):\n",
    "            text_lemm = df_final_example[st_ind:end_ind].loc[:,['text_lemma',st_col,end_col]].iloc[i][0]\n",
    "            true_tag = columns_lst[list(df_final_example[st_ind:end_ind].loc[:,['text_lemma',st_col,end_col]].iloc[i][1])[0]]\n",
    "            print('model:', st_col[8:])\n",
    "            print('text_lemmatize:', text_lemm)\n",
    "            print('true_tag:', true_tag)\n",
    "            try:\n",
    "                pred_tag = list(df_final_example[st_ind:end_ind].loc[:,['text_lemma',st_col,end_col]].iloc[i][2])\n",
    "                list_pred = []\n",
    "                for tag in pred_tag:\n",
    "                    list_pred.append(columns_lst[tag])\n",
    "                print('pred_tag:',', '.join(list_pred))\n",
    "            except:\n",
    "                pred_tag = ''\n",
    "                print('pred_tag:', pred_tag)\n",
    "            print()"
   ]
  },
  {
   "cell_type": "code",
   "execution_count": 187,
   "id": "4952d208",
   "metadata": {},
   "outputs": [
    {
     "name": "stdout",
     "output_type": "stream",
     "text": [
      "id_true_ai-forever-rubert-base id_pred_ai-forever-rubert-base\n",
      "model: ai-forever-rubert-base\n",
      "text_lemmatize: президент россия владимир путин свой указ производить генерал полковник различный ведомство министерство оборона военный прокуратура соответствующий указ среда декабрь опубликовывать официальный портал правовой информация кроме генерал присваивать очередной воинский звание частность минобороны россия появляться новый генерал-полковник полный адмирал восемь генерал-лейтенант приравнивать вице-адмирал генерал-майор контр-адмирал мчс появиллось генерал-полковник четыре генерал-лейтенант семь генерал-майор свой очередь росгвардия пополняться генерал-полковник генерал-лейтенант девять генерал-майор военный прокуратура появляться генерал-лейтенант юстиция генерал-майор федеральный служба исполнение наказание фсин получать генерал-лейтенант четыре генерал-майор генерал-лейтенант евгений устинов командовать войско центральный военный округ становиться генерал-полковник командующий балтийский флот вице-адмирал александр носат отныне полный адмирал командующий уральский округ росгвардия генерал-лейтенант александр попов получать погон третий шитый звезда становиться генерал-полковник основной генеральский звание присваивать офицер чей потолок должность недавний время увеличивать течение ноябрь декабрь президент вносить изменение положение весь силовой структура увеличивать число генеральский должность\n",
      "true_tag: Полиция и спецслужбы\n",
      "pred_tag: Полиция и спецслужбы\n",
      "\n",
      "id_true_cointegrated-rubert-tiny2_14 id_pred_cointegrated-rubert-tiny2_14\n",
      "model: cointegrated-rubert-tiny2_14\n",
      "text_lemmatize: президент россия владимир путин свой указ производить генерал полковник различный ведомство министерство оборона военный прокуратура соответствующий указ среда декабрь опубликовывать официальный портал правовой информация кроме генерал присваивать очередной воинский звание частность минобороны россия появляться новый генерал-полковник полный адмирал восемь генерал-лейтенант приравнивать вице-адмирал генерал-майор контр-адмирал мчс появиллось генерал-полковник четыре генерал-лейтенант семь генерал-майор свой очередь росгвардия пополняться генерал-полковник генерал-лейтенант девять генерал-майор военный прокуратура появляться генерал-лейтенант юстиция генерал-майор федеральный служба исполнение наказание фсин получать генерал-лейтенант четыре генерал-майор генерал-лейтенант евгений устинов командовать войско центральный военный округ становиться генерал-полковник командующий балтийский флот вице-адмирал александр носат отныне полный адмирал командующий уральский округ росгвардия генерал-лейтенант александр попов получать погон третий шитый звезда становиться генерал-полковник основной генеральский звание присваивать офицер чей потолок должность недавний время увеличивать течение ноябрь декабрь президент вносить изменение положение весь силовой структура увеличивать число генеральский должность\n",
      "true_tag: Полиция и спецслужбы\n",
      "pred_tag: Полиция и спецслужбы\n",
      "\n",
      "id_true_FacebookAI-xlm-roberta-base_10 id_pred_FacebookAI-xlm-roberta-base_10\n",
      "model: FacebookAI-xlm-roberta-base_10\n",
      "text_lemmatize: президент россия владимир путин свой указ производить генерал полковник различный ведомство министерство оборона военный прокуратура соответствующий указ среда декабрь опубликовывать официальный портал правовой информация кроме генерал присваивать очередной воинский звание частность минобороны россия появляться новый генерал-полковник полный адмирал восемь генерал-лейтенант приравнивать вице-адмирал генерал-майор контр-адмирал мчс появиллось генерал-полковник четыре генерал-лейтенант семь генерал-майор свой очередь росгвардия пополняться генерал-полковник генерал-лейтенант девять генерал-майор военный прокуратура появляться генерал-лейтенант юстиция генерал-майор федеральный служба исполнение наказание фсин получать генерал-лейтенант четыре генерал-майор генерал-лейтенант евгений устинов командовать войско центральный военный округ становиться генерал-полковник командующий балтийский флот вице-адмирал александр носат отныне полный адмирал командующий уральский округ росгвардия генерал-лейтенант александр попов получать погон третий шитый звезда становиться генерал-полковник основной генеральский звание присваивать офицер чей потолок должность недавний время увеличивать течение ноябрь декабрь президент вносить изменение положение весь силовой структура увеличивать число генеральский должность\n",
      "true_tag: Полиция и спецслужбы\n",
      "pred_tag: Полиция и спецслужбы\n",
      "\n",
      "id_true_Geotrend-distilbert-base-ru-cased_12 id_pred_Geotrend-distilbert-base-ru-cased_12\n",
      "model: Geotrend-distilbert-base-ru-cased_12\n",
      "text_lemmatize: президент россия владимир путин свой указ производить генерал полковник различный ведомство министерство оборона военный прокуратура соответствующий указ среда декабрь опубликовывать официальный портал правовой информация кроме генерал присваивать очередной воинский звание частность минобороны россия появляться новый генерал-полковник полный адмирал восемь генерал-лейтенант приравнивать вице-адмирал генерал-майор контр-адмирал мчс появиллось генерал-полковник четыре генерал-лейтенант семь генерал-майор свой очередь росгвардия пополняться генерал-полковник генерал-лейтенант девять генерал-майор военный прокуратура появляться генерал-лейтенант юстиция генерал-майор федеральный служба исполнение наказание фсин получать генерал-лейтенант четыре генерал-майор генерал-лейтенант евгений устинов командовать войско центральный военный округ становиться генерал-полковник командующий балтийский флот вице-адмирал александр носат отныне полный адмирал командующий уральский округ росгвардия генерал-лейтенант александр попов получать погон третий шитый звезда становиться генерал-полковник основной генеральский звание присваивать офицер чей потолок должность недавний время увеличивать течение ноябрь декабрь президент вносить изменение положение весь силовой структура увеличивать число генеральский должность\n",
      "true_tag: Полиция и спецслужбы\n",
      "pred_tag: Полиция и спецслужбы\n",
      "\n",
      "id_true_model_tfidf_catboost_ngram_1_1. id_pred_model_tfidf_catboost_ngram_1_1.\n",
      "model: model_tfidf_catboost_ngram_1_1.\n",
      "text_lemmatize: президент россия владимир путин свой указ производить генерал полковник различный ведомство министерство оборона военный прокуратура соответствующий указ среда декабрь опубликовывать официальный портал правовой информация кроме генерал присваивать очередной воинский звание частность минобороны россия появляться новый генерал-полковник полный адмирал восемь генерал-лейтенант приравнивать вице-адмирал генерал-майор контр-адмирал мчс появиллось генерал-полковник четыре генерал-лейтенант семь генерал-майор свой очередь росгвардия пополняться генерал-полковник генерал-лейтенант девять генерал-майор военный прокуратура появляться генерал-лейтенант юстиция генерал-майор федеральный служба исполнение наказание фсин получать генерал-лейтенант четыре генерал-майор генерал-лейтенант евгений устинов командовать войско центральный военный округ становиться генерал-полковник командующий балтийский флот вице-адмирал александр носат отныне полный адмирал командующий уральский округ росгвардия генерал-лейтенант александр попов получать погон третий шитый звезда становиться генерал-полковник основной генеральский звание присваивать офицер чей потолок должность недавний время увеличивать течение ноябрь декабрь президент вносить изменение положение весь силовой структура увеличивать число генеральский должность\n",
      "true_tag: Полиция и спецслужбы\n",
      "pred_tag: \n",
      "\n",
      "id_true_model_tfidf_logreg_ngram_1_1. id_pred_model_tfidf_logreg_ngram_1_1.\n",
      "model: model_tfidf_logreg_ngram_1_1.\n",
      "text_lemmatize: президент россия владимир путин свой указ производить генерал полковник различный ведомство министерство оборона военный прокуратура соответствующий указ среда декабрь опубликовывать официальный портал правовой информация кроме генерал присваивать очередной воинский звание частность минобороны россия появляться новый генерал-полковник полный адмирал восемь генерал-лейтенант приравнивать вице-адмирал генерал-майор контр-адмирал мчс появиллось генерал-полковник четыре генерал-лейтенант семь генерал-майор свой очередь росгвардия пополняться генерал-полковник генерал-лейтенант девять генерал-майор военный прокуратура появляться генерал-лейтенант юстиция генерал-майор федеральный служба исполнение наказание фсин получать генерал-лейтенант четыре генерал-майор генерал-лейтенант евгений устинов командовать войско центральный военный округ становиться генерал-полковник командующий балтийский флот вице-адмирал александр носат отныне полный адмирал командующий уральский округ росгвардия генерал-лейтенант александр попов получать погон третий шитый звезда становиться генерал-полковник основной генеральский звание присваивать офицер чей потолок должность недавний время увеличивать течение ноябрь декабрь президент вносить изменение положение весь силовой структура увеличивать число генеральский должность\n",
      "true_tag: Полиция и спецслужбы\n",
      "pred_tag: Полиция и спецслужбы, Россия, Оружие\n",
      "\n",
      "id_true_model_tfidf_logreg_ngram_1_2. id_pred_model_tfidf_logreg_ngram_1_2.\n",
      "model: model_tfidf_logreg_ngram_1_2.\n",
      "text_lemmatize: президент россия владимир путин свой указ производить генерал полковник различный ведомство министерство оборона военный прокуратура соответствующий указ среда декабрь опубликовывать официальный портал правовой информация кроме генерал присваивать очередной воинский звание частность минобороны россия появляться новый генерал-полковник полный адмирал восемь генерал-лейтенант приравнивать вице-адмирал генерал-майор контр-адмирал мчс появиллось генерал-полковник четыре генерал-лейтенант семь генерал-майор свой очередь росгвардия пополняться генерал-полковник генерал-лейтенант девять генерал-майор военный прокуратура появляться генерал-лейтенант юстиция генерал-майор федеральный служба исполнение наказание фсин получать генерал-лейтенант четыре генерал-майор генерал-лейтенант евгений устинов командовать войско центральный военный округ становиться генерал-полковник командующий балтийский флот вице-адмирал александр носат отныне полный адмирал командующий уральский округ росгвардия генерал-лейтенант александр попов получать погон третий шитый звезда становиться генерал-полковник основной генеральский звание присваивать офицер чей потолок должность недавний время увеличивать течение ноябрь декабрь президент вносить изменение положение весь силовой структура увеличивать число генеральский должность\n",
      "true_tag: Полиция и спецслужбы\n",
      "pred_tag: Полиция и спецслужбы, Россия, Общество, Оружие\n",
      "\n"
     ]
    }
   ],
   "source": [
    "comparison_result(170,171,columns_lst, columns_final_ex)"
   ]
  },
  {
   "cell_type": "code",
   "execution_count": 192,
   "id": "a1e973ea",
   "metadata": {},
   "outputs": [
    {
     "name": "stdout",
     "output_type": "stream",
     "text": [
      "id_true_ai-forever-rubert-base id_pred_ai-forever-rubert-base\n",
      "model: ai-forever-rubert-base\n",
      "text_lemmatize: улица бутик барвиха luxury village украшать новый год мотив сказка гофман щелкунчик мышиный король это сообщаться пресс-релиз присылать редакция лента ру четверг декабрь центр внимание красавица мари главный героиня сказка фигура главный положительный герой щелкунчик устанавливать праздничный елка возле barvikha hotel spa украшать бутафорский конфета игрушка бант коробка подарок сказочный антогонист семиголовый мышиный король венчать стилизованный торт праздничный карусель карусель оккупировать армия мышиный король охранять золотой орех бронзовый пушка самый романтичный инсталляция па-де-де который танцевать фея драже принц оршад силуэт мягко подсвечивать улица бутик звучать музыка знаменитый балет петр ильич чайковский барабанный бой фанфара дивертисмент вальс цветок заключительный лирический адажио ранее ноябрь московский универмаг цум открывать традиционный рождественский базар фасад универмаг перевязывать красный лента бант стена украшать рождественский звезда атриум цум возвышаться десятиметровый новогодний елка золотистый украшение галерея этаж декорировать бант разноцветный шар звезда подарочный коробка\n",
      "true_tag: Явления\n",
      "pred_tag: Явления\n",
      "\n",
      "id_true_cointegrated-rubert-tiny2_14 id_pred_cointegrated-rubert-tiny2_14\n",
      "model: cointegrated-rubert-tiny2_14\n",
      "text_lemmatize: улица бутик барвиха luxury village украшать новый год мотив сказка гофман щелкунчик мышиный король это сообщаться пресс-релиз присылать редакция лента ру четверг декабрь центр внимание красавица мари главный героиня сказка фигура главный положительный герой щелкунчик устанавливать праздничный елка возле barvikha hotel spa украшать бутафорский конфета игрушка бант коробка подарок сказочный антогонист семиголовый мышиный король венчать стилизованный торт праздничный карусель карусель оккупировать армия мышиный король охранять золотой орех бронзовый пушка самый романтичный инсталляция па-де-де который танцевать фея драже принц оршад силуэт мягко подсвечивать улица бутик звучать музыка знаменитый балет петр ильич чайковский барабанный бой фанфара дивертисмент вальс цветок заключительный лирический адажио ранее ноябрь московский универмаг цум открывать традиционный рождественский базар фасад универмаг перевязывать красный лента бант стена украшать рождественский звезда атриум цум возвышаться десятиметровый новогодний елка золотистый украшение галерея этаж декорировать бант разноцветный шар звезда подарочный коробка\n",
      "true_tag: Явления\n",
      "pred_tag: Явления\n",
      "\n",
      "id_true_FacebookAI-xlm-roberta-base_10 id_pred_FacebookAI-xlm-roberta-base_10\n",
      "model: FacebookAI-xlm-roberta-base_10\n",
      "text_lemmatize: улица бутик барвиха luxury village украшать новый год мотив сказка гофман щелкунчик мышиный король это сообщаться пресс-релиз присылать редакция лента ру четверг декабрь центр внимание красавица мари главный героиня сказка фигура главный положительный герой щелкунчик устанавливать праздничный елка возле barvikha hotel spa украшать бутафорский конфета игрушка бант коробка подарок сказочный антогонист семиголовый мышиный король венчать стилизованный торт праздничный карусель карусель оккупировать армия мышиный король охранять золотой орех бронзовый пушка самый романтичный инсталляция па-де-де который танцевать фея драже принц оршад силуэт мягко подсвечивать улица бутик звучать музыка знаменитый балет петр ильич чайковский барабанный бой фанфара дивертисмент вальс цветок заключительный лирический адажио ранее ноябрь московский универмаг цум открывать традиционный рождественский базар фасад универмаг перевязывать красный лента бант стена украшать рождественский звезда атриум цум возвышаться десятиметровый новогодний елка золотистый украшение галерея этаж декорировать бант разноцветный шар звезда подарочный коробка\n",
      "true_tag: Явления\n",
      "pred_tag: Инструменты\n",
      "\n",
      "id_true_Geotrend-distilbert-base-ru-cased_12 id_pred_Geotrend-distilbert-base-ru-cased_12\n",
      "model: Geotrend-distilbert-base-ru-cased_12\n",
      "text_lemmatize: улица бутик барвиха luxury village украшать новый год мотив сказка гофман щелкунчик мышиный король это сообщаться пресс-релиз присылать редакция лента ру четверг декабрь центр внимание красавица мари главный героиня сказка фигура главный положительный герой щелкунчик устанавливать праздничный елка возле barvikha hotel spa украшать бутафорский конфета игрушка бант коробка подарок сказочный антогонист семиголовый мышиный король венчать стилизованный торт праздничный карусель карусель оккупировать армия мышиный король охранять золотой орех бронзовый пушка самый романтичный инсталляция па-де-де который танцевать фея драже принц оршад силуэт мягко подсвечивать улица бутик звучать музыка знаменитый балет петр ильич чайковский барабанный бой фанфара дивертисмент вальс цветок заключительный лирический адажио ранее ноябрь московский универмаг цум открывать традиционный рождественский базар фасад универмаг перевязывать красный лента бант стена украшать рождественский звезда атриум цум возвышаться десятиметровый новогодний елка золотистый украшение галерея этаж декорировать бант разноцветный шар звезда подарочный коробка\n",
      "true_tag: Явления\n",
      "pred_tag: \n",
      "\n",
      "id_true_model_tfidf_catboost_ngram_1_1. id_pred_model_tfidf_catboost_ngram_1_1.\n",
      "model: model_tfidf_catboost_ngram_1_1.\n",
      "text_lemmatize: улица бутик барвиха luxury village украшать новый год мотив сказка гофман щелкунчик мышиный король это сообщаться пресс-релиз присылать редакция лента ру четверг декабрь центр внимание красавица мари главный героиня сказка фигура главный положительный герой щелкунчик устанавливать праздничный елка возле barvikha hotel spa украшать бутафорский конфета игрушка бант коробка подарок сказочный антогонист семиголовый мышиный король венчать стилизованный торт праздничный карусель карусель оккупировать армия мышиный король охранять золотой орех бронзовый пушка самый романтичный инсталляция па-де-де который танцевать фея драже принц оршад силуэт мягко подсвечивать улица бутик звучать музыка знаменитый балет петр ильич чайковский барабанный бой фанфара дивертисмент вальс цветок заключительный лирический адажио ранее ноябрь московский универмаг цум открывать традиционный рождественский базар фасад универмаг перевязывать красный лента бант стена украшать рождественский звезда атриум цум возвышаться десятиметровый новогодний елка золотистый украшение галерея этаж декорировать бант разноцветный шар звезда подарочный коробка\n",
      "true_tag: Явления\n",
      "pred_tag: \n",
      "\n",
      "id_true_model_tfidf_logreg_ngram_1_1. id_pred_model_tfidf_logreg_ngram_1_1.\n",
      "model: model_tfidf_logreg_ngram_1_1.\n",
      "text_lemmatize: улица бутик барвиха luxury village украшать новый год мотив сказка гофман щелкунчик мышиный король это сообщаться пресс-релиз присылать редакция лента ру четверг декабрь центр внимание красавица мари главный героиня сказка фигура главный положительный герой щелкунчик устанавливать праздничный елка возле barvikha hotel spa украшать бутафорский конфета игрушка бант коробка подарок сказочный антогонист семиголовый мышиный король венчать стилизованный торт праздничный карусель карусель оккупировать армия мышиный король охранять золотой орех бронзовый пушка самый романтичный инсталляция па-де-де который танцевать фея драже принц оршад силуэт мягко подсвечивать улица бутик звучать музыка знаменитый балет петр ильич чайковский барабанный бой фанфара дивертисмент вальс цветок заключительный лирический адажио ранее ноябрь московский универмаг цум открывать традиционный рождественский базар фасад универмаг перевязывать красный лента бант стена украшать рождественский звезда атриум цум возвышаться десятиметровый новогодний елка золотистый украшение галерея этаж декорировать бант разноцветный шар звезда подарочный коробка\n",
      "true_tag: Явления\n",
      "pred_tag: Явления, Инструменты\n",
      "\n",
      "id_true_model_tfidf_logreg_ngram_1_2. id_pred_model_tfidf_logreg_ngram_1_2.\n",
      "model: model_tfidf_logreg_ngram_1_2.\n",
      "text_lemmatize: улица бутик барвиха luxury village украшать новый год мотив сказка гофман щелкунчик мышиный король это сообщаться пресс-релиз присылать редакция лента ру четверг декабрь центр внимание красавица мари главный героиня сказка фигура главный положительный герой щелкунчик устанавливать праздничный елка возле barvikha hotel spa украшать бутафорский конфета игрушка бант коробка подарок сказочный антогонист семиголовый мышиный король венчать стилизованный торт праздничный карусель карусель оккупировать армия мышиный король охранять золотой орех бронзовый пушка самый романтичный инсталляция па-де-де который танцевать фея драже принц оршад силуэт мягко подсвечивать улица бутик звучать музыка знаменитый балет петр ильич чайковский барабанный бой фанфара дивертисмент вальс цветок заключительный лирический адажио ранее ноябрь московский универмаг цум открывать традиционный рождественский базар фасад универмаг перевязывать красный лента бант стена украшать рождественский звезда атриум цум возвышаться десятиметровый новогодний елка золотистый украшение галерея этаж декорировать бант разноцветный шар звезда подарочный коробка\n",
      "true_tag: Явления\n",
      "pred_tag: Явления, Инструменты\n",
      "\n"
     ]
    }
   ],
   "source": [
    "comparison_result(263,264,columns_lst, columns_final_ex)"
   ]
  }
 ],
 "metadata": {
  "kernelspec": {
   "display_name": "base",
   "language": "python",
   "name": "python3"
  },
  "language_info": {
   "codemirror_mode": {
    "name": "ipython",
    "version": 3
   },
   "file_extension": ".py",
   "mimetype": "text/x-python",
   "name": "python",
   "nbconvert_exporter": "python",
   "pygments_lexer": "ipython3",
   "version": "3.12.4"
  }
 },
 "nbformat": 4,
 "nbformat_minor": 5
}
